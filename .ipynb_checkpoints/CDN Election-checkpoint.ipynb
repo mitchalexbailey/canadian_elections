{
 "cells": [
  {
   "cell_type": "code",
   "execution_count": 1,
   "metadata": {},
   "outputs": [],
   "source": [
    "import pandas as pd\n",
    "import os"
   ]
  },
  {
   "cell_type": "code",
   "execution_count": null,
   "metadata": {},
   "outputs": [
    {
     "name": "stdout",
     "output_type": "stream",
     "text": [
      "2015\n",
      "2011\n",
      "2008\n",
      "2006\n",
      "2004\n"
     ]
    },
    {
     "name": "stderr",
     "output_type": "stream",
     "text": [
      "/Library/Frameworks/Python.framework/Versions/3.7/lib/python3.7/site-packages/pandas/core/frame.py:6211: FutureWarning: Sorting because non-concatenation axis is not aligned. A future version\n",
      "of pandas will change to not sort by default.\n",
      "\n",
      "To accept the future behavior, pass 'sort=False'.\n",
      "\n",
      "To retain the current behavior and silence the warning, pass 'sort=True'.\n",
      "\n",
      "  sort=sort)\n"
     ]
    },
    {
     "name": "stdout",
     "output_type": "stream",
     "text": [
      "Failed at: 2004, 12010\n",
      "Failed at: 2004, 24005\n",
      "Failed at: 2004, 24076\n"
     ]
    }
   ],
   "source": [
    "# https://www.elections.ca/content.aspx?section=res&dir=rep/off&document=index&lang=e#officialvoting\n",
    "ids = ['10001', '10002', '10003', '10004', '10005', '10006', '10007', '11001', '11002', '11003', '11004', '12001', '12002', '12003', '12004', '12005', '12006', '12007', '12008', '12009', '12010', '12011', '13001', '13002', '13003', '13004', '13005', '13006', '13007', '13008', '13009', '13010', '24001', '24002', '24003', '24004', '24005', '24006', '24007', '24008', '24009', '24010', '24011', '24012', '24013', '24014', '24015', '24016', '24017', '24018', '24019', '24020', '24021', '24022', '24023', '24024', '24025', '24026', '24027', '24028', '24029', '24030', '24031', '24032', '24033', '24034', '24035', '24036', '24037', '24038', '24039', '24040', '24041', '24042', '24043', '24044', '24045', '24046', '24047', '24048', '24049', '24050', '24051', '24052', '24053', '24054', '24055', '24056', '24057', '24058', '24059', '24060', '24061', '24062', '24063', '24064', '24065', '24066', '24067', '24068', '24069', '24070', '24071', '24072', '24073', '24074', '24075', '24076', '24077', '24078', '35001', '35002', '35003', '35004', '35005', '35006', '35007', '35008', '35009', '35010', '35011', '35012', '35013', '35014', '35015', '35016', '35017', '35018', '35019', '35020', '35021', '35022', '35023', '35024', '35025', '35026', '35027', '35028', '35029', '35030', '35031', '35032', '35033', '35034', '35035', '35036', '35037', '35038', '35039', '35040', '35041', '35042', '35043', '35044', '35045', '35046', '35047', '35048', '35049', '35050', '35051', '35052', '35053', '35054', '35055', '35056', '35057', '35058', '35059', '35060', '35061', '35062', '35063', '35064', '35065', '35066', '35067', '35068', '35069', '35070', '35071', '35072', '35073', '35074', '35075', '35076', '35077', '35078', '35079', '35080', '35081', '35082', '35083', '35084', '35085', '35086', '35087', '35088', '35089', '35090', '35091', '35092', '35093', '35094', '35095', '35096', '35097', '35098', '35099', '35100', '35101', '35102', '35103', '35104', '35105', '35106', '35107', '35108', '35109', '35110', '35111', '35112', '35113', '35114', '35115', '35116', '35117', '35118', '35119', '35120', '35121', '46001', '46002', '46003', '46004', '46005', '46006', '46007', '46008', '46009', '46010', '46011', '46012', '46013', '46014', '47001', '47002', '47003', '47004', '47005', '47006', '47007', '47008', '47009', '47010', '47011', '47012', '47013', '47014', '48001', '48002', '48003', '48004', '48005', '48006', '48007', '48008', '48009', '48010', '48011', '48012', '48013', '48014', '48015', '48016', '48017', '48018', '48019', '48020', '48021', '48022', '48023', '48024', '48025', '48026', '48027', '48028', '48029', '48030', '48031', '48032', '48033', '48034', '59001', '59002', '59003', '59004', '59005', '59006', '59007', '59008', '59009', '59010', '59011', '59012', '59013', '59014', '59015', '59016', '59017', '59018', '59019', '59020', '59021', '59022', '59023', '59024', '59025', '59026', '59027', '59028', '59029', '59030', '59031', '59032', '59033', '59034', '59035', '59036', '59037', '59038', '59039', '59040', '59041', '59042', '60001', '61001', '62001']\n",
    "\n",
    "year_urls = {\n",
    "    '2015': 'https://www.elections.ca/res/rep/off/ovr2015app/41/data_donnees/pollresults_resultatsbureau[district].csv',\n",
    "    '2011': 'https://www.elections.ca/scripts/OVR2011/34/data_donnees/pollresults_resultatsbureau[district].csv',\n",
    "    '2008': 'https://www.elections.ca/scripts/OVR2008/31/data/pollresults_resultatsbureau[district].csv',\n",
    "    '2006': 'https://www.elections.ca/Scripts/OVR2006/25/data_donnees/pollresults_resultatsbureau[district].csv',\n",
    "    '2004': 'https://www.elections.ca/scripts/OVR2004/23/data/pollbypoll[district].csv'\n",
    "}\n",
    "\n",
    "for year, url in year_urls.items():\n",
    "    print(year)\n",
    "    dat = pd.DataFrame()\n",
    "    combined_file_name = f'{year}_election_combined.csv'\n",
    "    if combined_file_name not in os.listdir():\n",
    "        for i in ids:\n",
    "            try:\n",
    "                temp_file = url.replace('//', '/').replace('/', '-').replace(':', '-').replace('[district]', i)\n",
    "                if temp_file not in os.listdir('raw_data/'):\n",
    "                    temp_url = url.replace('[district]', i)\n",
    "                    temp = pd.read_csv(temp_url, encoding='ISO 8859-1')\n",
    "                    temp.to_csv(f\"raw_data/{temp_file}\")\n",
    "                else:\n",
    "                    temp = pd.read_csv(f'raw_data/{temp_file}')\n",
    "                temp.columns = [str(x).split('/')[0] for x in temp.columns]\n",
    "                dat = dat.append(temp)\n",
    "            except:\n",
    "                print(f'Failed at: {year}, {i}')\n",
    "        dat.to_csv(combined_file_name)"
   ]
  },
  {
   "cell_type": "code",
   "execution_count": null,
   "metadata": {},
   "outputs": [],
   "source": [
    "# fix differences in accent use\n",
    "for year in years:\n",
    "    combined_file = f'{year}_election_combined.csv'\n",
    "    temp = pd.read_csv(combined_file)\n",
    "    for col in temp.columns:\n",
    "        if len(temp[col].dropna()) > 0:\n",
    "            if type(temp[col].dropna().values[0])==str:\n",
    "                temp[col] = temp[col].dropna().apply(lambda x: x.encode('ISO 8859-1').decode('utf-8'))\n",
    "    temp.to_csv(combined_file)"
   ]
  },
  {
   "cell_type": "code",
   "execution_count": null,
   "metadata": {},
   "outputs": [],
   "source": []
  }
 ],
 "metadata": {
  "kernelspec": {
   "display_name": "Python 3",
   "language": "python",
   "name": "python3"
  },
  "language_info": {
   "codemirror_mode": {
    "name": "ipython",
    "version": 3
   },
   "file_extension": ".py",
   "mimetype": "text/x-python",
   "name": "python",
   "nbconvert_exporter": "python",
   "pygments_lexer": "ipython3",
   "version": "3.7.0"
  }
 },
 "nbformat": 4,
 "nbformat_minor": 2
}
